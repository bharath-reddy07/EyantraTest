{
 "cells": [
  {
   "cell_type": "code",
   "execution_count": 1,
   "id": "03003f1c",
   "metadata": {},
   "outputs": [
    {
     "name": "stderr",
     "output_type": "stream",
     "text": [
      "/home/bharath/.local/lib/python3.10/site-packages/matplotlib/projections/__init__.py:63: UserWarning: Unable to import Axes3D. This may be due to multiple versions of Matplotlib being installed (e.g. as a system package and as a pip package). As a result, the 3D projection is not available.\n",
      "  warnings.warn(\"Unable to import Axes3D. This may be due to multiple versions of \"\n"
     ]
    }
   ],
   "source": [
    "import numpy as np\n",
    "from scipy.stats import mode\n",
    "import matplotlib.pyplot as plt\n",
    "from sklearn.datasets import load_iris\n",
    "from sklearn.model_selection import train_test_split\n",
    "from sklearn.preprocessing import StandardScaler\n",
    "from sklearn.metrics import accuracy_score,confusion_matrix,classification_report"
   ]
  },
  {
   "cell_type": "code",
   "execution_count": 2,
   "id": "556b482b",
   "metadata": {},
   "outputs": [],
   "source": [
    "class ImplementKNN:\n",
    "    def __init__(self,k):\n",
    "        self.k=k\n",
    "    def fit(self,X_train,Y_train):\n",
    "        self.X_train=X_train\n",
    "        self.Y_train=Y_train\n",
    "    def predict(self,X_test):\n",
    "        m=self.X_train.shape[0]\n",
    "        n=X_test.shape[0]\n",
    "        prediction=[]\n",
    "        for i in range(n):\n",
    "            distance=[]\n",
    "            distance = np.sqrt(np.sum((X_test[i,:] - self.X_train)**2, axis=1))\n",
    "            distance=zip(distance, self.Y_train)\n",
    "            distance=sorted(distance)\n",
    "            neighbours=[]\n",
    "            for item in range(self.k):\n",
    "                neighbours.append(distance[item][1])\n",
    "            #print(neighbours)\n",
    "            modeAns=max(set(neighbours), key=neighbours.count)\n",
    "            prediction.append(modeAns)\n",
    "        return prediction"
   ]
  },
  {
   "cell_type": "code",
   "execution_count": 3,
   "id": "ac85a48f",
   "metadata": {},
   "outputs": [
    {
     "name": "stdout",
     "output_type": "stream",
     "text": [
      "[0, 2, 1, 1, 0, 2, 1, 0, 2, 0, 2, 2, 2, 1, 1, 1, 0, 2, 0, 2, 2, 0, 1, 0, 2, 1, 1, 2, 0, 0]\n",
      "93.333\n"
     ]
    }
   ],
   "source": [
    "iris=load_iris()\n",
    "dataset=iris.data\n",
    "targetSet=iris.target\n",
    "#print(dataset)\n",
    "X_train,X_test,Y_train,Y_test=train_test_split(dataset,targetSet,test_size=0.2)\n",
    "scaler=StandardScaler()\n",
    "X_train_scaled=scaler.fit_transform(X_train)\n",
    "X_test_scaled=scaler.transform(X_test)\n",
    "KNN=ImplementKNN(k=14)\n",
    "KNN.fit(X_train_scaled,Y_train)\n",
    "prediction=KNN.predict(X_test_scaled)\n",
    "print(prediction)\n",
    "print(100*np.round(accuracy_score(Y_test,prediction),5))"
   ]
  },
  {
   "cell_type": "code",
   "execution_count": null,
   "id": "00f4e88f",
   "metadata": {},
   "outputs": [],
   "source": []
  }
 ],
 "metadata": {
  "kernelspec": {
   "display_name": "Python 3 (ipykernel)",
   "language": "python",
   "name": "python3"
  },
  "language_info": {
   "codemirror_mode": {
    "name": "ipython",
    "version": 3
   },
   "file_extension": ".py",
   "mimetype": "text/x-python",
   "name": "python",
   "nbconvert_exporter": "python",
   "pygments_lexer": "ipython3",
   "version": "3.10.12"
  }
 },
 "nbformat": 4,
 "nbformat_minor": 5
}
