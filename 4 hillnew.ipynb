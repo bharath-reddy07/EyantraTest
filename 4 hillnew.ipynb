{
 "cells": [
  {
   "cell_type": "code",
   "execution_count": null,
   "id": "3dd8c707",
   "metadata": {},
   "outputs": [],
   "source": [
    "def hill_climbing(start, step_size=0.01, max_iterations=1000):\n",
    "    current_position = start\n",
    "    current_value = objective(current_position)\n",
    "\n",
    "    for i in range(max_iterations):\n",
    "        next_position_positive = current_position + step_size\n",
    "        next_value_positive = objective(next_position_positive)\n",
    "        \n",
    "        next_position_negative = current_position - step_size\n",
    "        next_value_negative = objective(next_position_negative)\n",
    "        \n",
    "        if next_value_positive > current_value and next_value_positive >= next_value_negative:\n",
    "            current_position = next_position_positive\n",
    "            current_value = next_value_positive\n",
    "        elif next_value_negative > current_value and next_value_negative > next_value_positive:\n",
    "            current_position = next_position_negative\n",
    "            current_value = next_value_negative\n",
    "        else:\n",
    "            break\n",
    "    return current_position, current_value\n",
    "def objective(x):      \n",
    "    return 7*x+4\n",
    "# func_str = \"7*x+5\"\n",
    "# Convert the string into a function\n",
    "# func = lambda x: eval(func_str)\n",
    "start = float(input(\"\\nEnter the starting value to begin the search: \"))\n",
    "\n",
    "maxima, max_value = hill_climbing(start)\n",
    "print(f\"The maxima is at x = {maxima} \")\n",
    "print(f\"The maximum value obtained is {max_value}\")"
   ]
  }
 ],
 "metadata": {
  "kernelspec": {
   "display_name": "Python 3 (ipykernel)",
   "language": "python",
   "name": "python3"
  },
  "language_info": {
   "codemirror_mode": {
    "name": "ipython",
    "version": 3
   },
   "file_extension": ".py",
   "mimetype": "text/x-python",
   "name": "python",
   "nbconvert_exporter": "python",
   "pygments_lexer": "ipython3",
   "version": "3.10.12"
  }
 },
 "nbformat": 4,
 "nbformat_minor": 5
}
